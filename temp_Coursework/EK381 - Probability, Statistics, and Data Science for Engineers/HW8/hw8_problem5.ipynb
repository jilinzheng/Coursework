{
 "cells": [
  {
   "cell_type": "code",
   "execution_count": 40,
   "metadata": {},
   "outputs": [],
   "source": [
    "# Import Necessary Modules\n",
    "import glob\n",
    "import matplotlib.pyplot as plt \n",
    "from skimage import io\n",
    "import numpy as np\n",
    "import math\n",
    "import scipy.stats as stats\n",
    "%matplotlib inline "
   ]
  },
  {
   "cell_type": "code",
   "execution_count": 41,
   "metadata": {},
   "outputs": [],
   "source": [
    "#This function takes in the column vectors of guesses for H0 and H1\n",
    "#data and outputs the probability of error, assuming H0 and H1 are\n",
    "#equally likely. \n",
    "\n",
    "def proberror(testguess0,testguess1):\n",
    "    #Calculate sizes.\n",
    "    n0test = testguess0.shape[0]\n",
    "    n1test = testguess1.shape[0]\n",
    "    #The number of false alarms is the total number of ones in testguess0.\n",
    "    num_false_alarm = np.sum(np.not_equal(testguess0,np.zeros((n0test,1))))\n",
    "    #Divide by total number of guesses to estimate the probability of false alarm.\n",
    "    P_FA = num_false_alarm / n0test\n",
    "    #The number of missed detections is the total number of zeros in testguess1.\n",
    "    num_missed_detection = np.sum(np.not_equal(testguess1,np.ones((n1test,1))))\n",
    "    #Divide by total number of guesses to estimate the probability of missed detection.\n",
    "    P_MD = num_missed_detection / n1test\n",
    "    Pe = P_FA * 0.5 + P_MD * 0.5\n",
    "    return Pe"
   ]
  },
  {
   "cell_type": "code",
   "execution_count": 42,
   "metadata": {},
   "outputs": [],
   "source": [
    "#Read in synthetic data for 8.5(a), 8.5(b), 8.5(c)\n",
    "dataset0 = np.genfromtxt(\"syntheticH0.csv\", delimiter = \",\")\n",
    "dataset1 = np.genfromtxt(\"syntheticH1.csv\", delimiter = \",\")\n",
    "\n",
    "#Read in pet classificaton data for 8.4(h)\n",
    "# dataset0,dataset1 = read_cats_dogs()\n"
   ]
  },
  {
   "cell_type": "code",
   "execution_count": 43,
   "metadata": {},
   "outputs": [],
   "source": [
    "#Determine number of samples and dimension.\n",
    "n0,d0 = dataset0.shape\n",
    "n1,d1 = dataset1.shape\n",
    "if (d0 == d1):\n",
    "    d = d0\n",
    "else:\n",
    "    raise Exception(\"dataset0 and dataset1 do not have the same number of columns.\")\n",
    "\n",
    "#Split dataset into training and test data.\n",
    "train0 = dataset0[0:math.floor(n0/2),:]\n",
    "test0 = dataset0[math.floor(n0/2):n0,:]\n",
    "train1 = dataset1[0:math.floor(n1/2),:]\n",
    "test1 = dataset1[math.floor(n1/2):n1,:]\n",
    "n0train = train0.shape[0]\n",
    "n1train = train1.shape[0]\n",
    "n0test = test0.shape[0]\n",
    "n1test = test1.shape[0]"
   ]
  },
  {
   "cell_type": "code",
   "execution_count": 44,
   "metadata": {},
   "outputs": [],
   "source": [
    "#Estimate mean vectors and covariance matrices from training data.\n",
    "mu0 = np.mean(train0, axis=0)\n",
    "mu1 = np.mean(train1, axis=0)\n",
    "sigma0 = np.cov(train0, rowvar=False)\n",
    "sigma1 = np.cov(train1, rowvar=False)"
   ]
  },
  {
   "cell_type": "code",
   "execution_count": 1,
   "metadata": {},
   "outputs": [],
   "source": [
    "#This function takes in a row vector currentdata as well as two mean \n",
    "#vectors mu0 and m1. It outputs 1 if currentdata is closer to mu1 \n",
    "#than mu0, and 0 if mu0 is closer. In the case of a tie, it outputs 1.\n",
    "\n",
    "def closest_average(currentdata,mu0,mu1):\n",
    "    #Calculate distances.\n",
    "    distance_mu0 = np.math.sqrt(np.sum((currentdata-mu0)**2))\n",
    "    distance_mu1 = np.math.sqrt(np.sum((currentdata-mu1)**2))\n",
    "    #Decide based on smaller distance.\n",
    "    if (distance_mu0 < distance_mu1):\n",
    "        guess = 0\n",
    "    elif (distance_mu0 >= distance_mu1):\n",
    "        guess = 1\n",
    "    return guess"
   ]
  },
  {
   "cell_type": "code",
   "execution_count": 46,
   "metadata": {},
   "outputs": [
    {
     "name": "stdout",
     "output_type": "stream",
     "text": [
      "Probability of error for identity covariance matrix is 0.068.\n"
     ]
    }
   ],
   "source": [
    "#8.5(a) Apply Gaussian ML rule for identity covariance matrix by plugging into the PDFs.\n",
    "H0guesses_idcov = np.zeros((n0test,1))\n",
    "H1guesses_idcov = np.zeros((n1test,1))\n",
    "\n",
    "for i in range(n0test):\n",
    "    currentdata = test0[i,:]\n",
    "    h0 = stats.multivariate_normal.pdf(currentdata, mu0, np.identity(d0))\n",
    "    h1 = stats.multivariate_normal.pdf(currentdata, mu1, np.identity(d0))\n",
    "    if h1>= h0:\n",
    "        H0guesses_idcov[i] =  1\n",
    "    \n",
    "for i in range(n1test):\n",
    "    currentdata = test1[i,:]\n",
    "    h0 = stats.multivariate_normal.pdf(currentdata, mu0, np.identity(d1))\n",
    "    h1 = stats.multivariate_normal.pdf(currentdata, mu1, np.identity(d1))\n",
    "    if h1>= h0:\n",
    "        H1guesses_idcov[i] = 1\n",
    "    \n",
    "Pe_idcov = proberror(H0guesses_idcov,H1guesses_idcov)\n",
    "print(\"Probability of error for identity covariance matrix is \" + str(Pe_idcov) + \".\")"
   ]
  },
  {
   "cell_type": "code",
   "execution_count": 47,
   "metadata": {},
   "outputs": [
    {
     "name": "stdout",
     "output_type": "stream",
     "text": [
      "Probability of error for the same covariance matrices is 0.05.\n"
     ]
    }
   ],
   "source": [
    "#8.5 (b) Apply Gaussian ML rule for the same covariance matrix by plugging into the PDFs.\n",
    "H0guesses_samecov = np.zeros((n0test,1))\n",
    "H1guesses_samecov = np.zeros((n1test,1))\n",
    "\n",
    "sigmas = (1/(n0train+n1train-2))*((n0train-1)*sigma0+(n1train-1)*sigma1)\n",
    "\n",
    "for i in range(n0test):\n",
    "    currentdata = test0[i,:]\n",
    "    h0 = stats.multivariate_normal.pdf(currentdata, mu0, sigmas)\n",
    "    h1 = stats.multivariate_normal.pdf(currentdata, mu1, sigmas)\n",
    "    if h1>=h0:\n",
    "        H0guesses_samecov[i] = 1\n",
    "    \n",
    "for i in range(n1test):\n",
    "    currentdata = test1[i,:]\n",
    "    h0 = stats.multivariate_normal.pdf(currentdata, mu0, sigmas)\n",
    "    h1 = stats.multivariate_normal.pdf(currentdata, mu1, sigmas)\n",
    "    if h1>=h0:\n",
    "        H1guesses_samecov[i] = 1\n",
    "    \n",
    "Pe_samecov = proberror(H0guesses_samecov,H1guesses_samecov)\n",
    "print(\"Probability of error for the same covariance matrices is \" + str(Pe_samecov) + \".\")"
   ]
  },
  {
   "cell_type": "code",
   "execution_count": 48,
   "metadata": {},
   "outputs": [
    {
     "name": "stdout",
     "output_type": "stream",
     "text": [
      "Probability of error for different covariance matrices is 0.012.\n"
     ]
    }
   ],
   "source": [
    "#8.5 c Apply Gaussian ML rule for different covariance matrices by plugging into the PDFs.\n",
    "H0guesses_diffcov = np.zeros((n0test,1))\n",
    "H1guesses_diffcov = np.zeros((n1test,1))\n",
    "\n",
    "for i in range(n0test):\n",
    "    currentdata = test0[i,:]\n",
    "    h0 = stats.multivariate_normal.pdf(currentdata, mu0, sigma0)\n",
    "    h1 = stats.multivariate_normal.pdf(currentdata, mu1, sigma1)\n",
    "    if h1>=h0:\n",
    "        H0guesses_samecov[i] = 1\n",
    "\n",
    "for i in range(n1test):\n",
    "    currentdata = test1[i,:]\n",
    "    h0 = stats.multivariate_normal.pdf(currentdata, mu0, sigma0)\n",
    "    h1 = stats.multivariate_normal.pdf(currentdata, mu1, sigma1)\n",
    "    if h1>=h0:\n",
    "        H1guesses_diffcov[i] = 1\n",
    "\n",
    "Pe_diffcov = proberror(H0guesses_diffcov,H1guesses_diffcov)\n",
    "print(\"Probability of error for different covariance matrices is \" + str(Pe_diffcov) + \".\")"
   ]
  },
  {
   "cell_type": "code",
   "execution_count": 49,
   "metadata": {},
   "outputs": [],
   "source": [
    "## For problem 8.5(d), load a new data set: \n",
    "\n",
    "# Read in breast cancer data \n",
    "dataset0 = np.genfromtxt(\"benignfull.csv\", delimiter = \",\")\n",
    "dataset1 = np.genfromtxt(\"malignantfull.csv\", delimiter = \",\")\n",
    "\n",
    "# compute the statistics\n",
    "n0,d0 = dataset0.shape\n",
    "n1,d1 = dataset1.shape\n",
    "if (d0 == d1):\n",
    "    d = d0\n",
    "else:\n",
    "    raise Exception(\"dataset0 and dataset1 do not have the same number of columns.\")\n",
    "\n",
    "#Split dataset into training and test data.\n",
    "train0 = dataset0[0:math.floor(n0/2),:]\n",
    "test0 = dataset0[math.floor(n0/2):n0,:]\n",
    "train1 = dataset1[0:math.floor(n1/2),:]\n",
    "test1 = dataset1[math.floor(n1/2):n1,:]\n",
    "n0train = train0.shape[0]\n",
    "n1train = train1.shape[0]\n",
    "n0test = test0.shape[0]\n",
    "n1test = test1.shape[0]\n",
    "\n",
    "#Estimate mean vectors and covariance matrices from training data.\n",
    "mu0 = np.mean(train0, axis=0)\n",
    "mu1 = np.mean(train1, axis=0)\n",
    "sigma0 = np.cov(train0, rowvar=False)\n",
    "sigma1 = np.cov(train1, rowvar=False)\n"
   ]
  },
  {
   "cell_type": "code",
   "execution_count": 50,
   "metadata": {},
   "outputs": [
    {
     "name": "stdout",
     "output_type": "stream",
     "text": [
      "Probability of error for identity covariance matrix is 0.385.\n"
     ]
    }
   ],
   "source": [
    "#8.5(d) Apply Gaussian ML rule for identity covariance matrix by plugging into the PDFs for the cancer data\n",
    "#  Note: you shoud reuse the code from 8.5(a) \n",
    "H0guesses_idcov = np.zeros((n0test,1))\n",
    "H1guesses_idcov = np.zeros((n1test,1))\n",
    "\n",
    "for i in range(n0test):\n",
    "    currentdata = test0[i,:]\n",
    "    h0 = stats.multivariate_normal.pdf(currentdata, mu0, np.identity(d0))\n",
    "    h1 = stats.multivariate_normal.pdf(currentdata, mu1, np.identity(d0))\n",
    "    if h1>=h0:\n",
    "        H0guesses_idcov[i] = 1\n",
    "    \n",
    "for i in range(n1test):\n",
    "    currentdata = test1[i,:]\n",
    "    h0 = stats.multivariate_normal.pdf(currentdata, mu0, np.identity(d1))\n",
    "    h1 = stats.multivariate_normal.pdf(currentdata, mu1, np.identity(d1))\n",
    "    if h1>=h0:\n",
    "        H1guesses_idcov[i] = 1\n",
    "    \n",
    "Pe_idcov = proberror(H0guesses_idcov,H1guesses_idcov)\n",
    "print(\"Probability of error for identity covariance matrix is \" + str(Pe_idcov) + \".\")"
   ]
  },
  {
   "cell_type": "code",
   "execution_count": 51,
   "metadata": {},
   "outputs": [
    {
     "name": "stdout",
     "output_type": "stream",
     "text": [
      "Probability of error for identity covariance matrix is 0.08499999999999999.\n"
     ]
    },
    {
     "name": "stderr",
     "output_type": "stream",
     "text": [
      "/var/folders/pf/619m_yfj3w5cwc52r3yxbb_40000gn/T/ipykernel_46189/403505849.py:7: DeprecationWarning: `np.math` is a deprecated alias for the standard library `math` module (Deprecated Numpy 1.25). Replace usages of `np.math` with `math`\n",
      "  distance_mu0 = np.math.sqrt(np.sum((currentdata-mu0)**2))\n",
      "/var/folders/pf/619m_yfj3w5cwc52r3yxbb_40000gn/T/ipykernel_46189/403505849.py:8: DeprecationWarning: `np.math` is a deprecated alias for the standard library `math` module (Deprecated Numpy 1.25). Replace usages of `np.math` with `math`\n",
      "  distance_mu1 = np.math.sqrt(np.sum((currentdata-mu1)**2))\n"
     ]
    }
   ],
   "source": [
    "#Now we start testing with the log-likelihood tests \n",
    "# Problem 8.5(e)  Apply Gaussian ML rule for identity covariance matrix by using the closest average classifier.\n",
    "# Recall that function was defined above.  \n",
    "\n",
    "H0guesses_idcov = np.zeros((n0test,1))\n",
    "H1guesses_idcov = np.zeros((n1test,1))\n",
    "\n",
    "for i in range(n0test):\n",
    "    currentdata = test0[i,:]\n",
    "    H0guesses_idcov[i] = closest_average(currentdata, mu0, mu1)\n",
    "    \n",
    "for i in range(n1test):\n",
    "    currentdata = test1[i,:]    \n",
    "    H1guesses_idcov[i] = closest_average(currentdata,mu0,mu1)\n",
    "    \n",
    "Pe_idcov = proberror(H0guesses_idcov,H1guesses_idcov)\n",
    "print(\"Probability of error for identity covariance matrix is \" + str(Pe_idcov) + \".\")"
   ]
  },
  {
   "cell_type": "code",
   "execution_count": 52,
   "metadata": {},
   "outputs": [
    {
     "name": "stdout",
     "output_type": "stream",
     "text": [
      "Probability of error for the same covariance matrices is 0.065.\n"
     ]
    }
   ],
   "source": [
    "#8.5 (f) Apply Gaussian ML rule for the same covariance matrix by using the log-likelihood ratio\n",
    "# using poled covariances \n",
    "H0guesses_samecov = np.zeros((n0test,1))\n",
    "H1guesses_samecov = np.zeros((n1test,1))\n",
    "\n",
    "sigmas = (1/(n0train+n1train-2))*((n0train-1)*sigma0+(n1train-1)*sigma1)\n",
    "sigmainv = np.linalg.pinv(sigmas)\n",
    "\n",
    "for i in range(n0test):\n",
    "    currentdata = test0[i,:]\n",
    "    value0 = np.matmul(np.matmul((currentdata-mu0),sigmainv),np.transpose(currentdata-mu0))\n",
    "    value1 = np.matmul(np.matmul((currentdata-mu1),sigmainv),np.transpose(currentdata-mu1))\n",
    "    if value1<=value0:\n",
    "        H0guesses_samecov[i] = 1\n",
    "    \n",
    "for i in range(n1test):\n",
    "    currentdata = test1[i,:]\n",
    "    value0 = np.matmul(np.matmul((currentdata-mu0),sigmainv),np.transpose(currentdata-mu0))\n",
    "    value1 = np.matmul(np.matmul((currentdata-mu1),sigmainv),np.transpose(currentdata-mu1))\n",
    "    if value1<=value0:\n",
    "        H1guesses_samecov[i] = 1\n",
    "    \n",
    "Pe_samecov = proberror(H0guesses_samecov,H1guesses_samecov)\n",
    "print(\"Probability of error for the same covariance matrices is \" + str(Pe_samecov) + \".\")"
   ]
  },
  {
   "cell_type": "code",
   "execution_count": 53,
   "metadata": {},
   "outputs": [
    {
     "name": "stdout",
     "output_type": "stream",
     "text": [
      "Probability of error for different covariance matrices is 0.015.\n"
     ]
    }
   ],
   "source": [
    "#8.5(g) Apply Gaussian ML rule for different covariance matrices by using the log-likelihood ratio.\n",
    "H0guesses_diffcov = np.zeros((n0test,1))\n",
    "H1guesses_diffcov = np.zeros((n1test,1)) \n",
    "\n",
    "sigma0inv = np.linalg.pinv(sigma0)\n",
    "sigma1inv = np.linalg.pinv(sigma1)\n",
    "offset = math.log(np.linalg.det(sigma0))-math.log(np.linalg.det(sigma1))\n",
    "\n",
    "for i in range(n0test):\n",
    "    currentdata = test0[i,:]\n",
    "    value0 = np.matmul(np.matmul((currentdata-mu0),sigma0inv),np.transpose(currentdata-mu0))\n",
    "    value1 = np.matmul(np.matmul((currentdata-mu1),sigma1inv),np.transpose(currentdata-mu1))\n",
    "    if value1<=(value0+offset):\n",
    "        H0guesses_diffcov[i] = 1\n",
    "\n",
    "for i in range(n1test):\n",
    "    currentdata = test1[i,:]\n",
    "    value0 = np.matmul(np.matmul((currentdata-mu0),sigma0inv),np.transpose(currentdata-mu0))\n",
    "    value1 = np.matmul(np.matmul((currentdata-mu1),sigma1inv),np.transpose(currentdata-mu1))\n",
    "    if value1<=(value0+offset):\n",
    "        H1guesses_diffcov[i] = 1\n",
    "\n",
    "Pe_diffcov = proberror(H0guesses_diffcov,H1guesses_diffcov)\n",
    "print(\"Probability of error for different covariance matrices is \" + str(Pe_diffcov) + \".\")"
   ]
  }
 ],
 "metadata": {
  "kernelspec": {
   "display_name": "Python 3",
   "language": "python",
   "name": "python3"
  },
  "language_info": {
   "codemirror_mode": {
    "name": "ipython",
    "version": 3
   },
   "file_extension": ".py",
   "mimetype": "text/x-python",
   "name": "python",
   "nbconvert_exporter": "python",
   "pygments_lexer": "ipython3",
   "version": "3.12.2"
  }
 },
 "nbformat": 4,
 "nbformat_minor": 4
}
