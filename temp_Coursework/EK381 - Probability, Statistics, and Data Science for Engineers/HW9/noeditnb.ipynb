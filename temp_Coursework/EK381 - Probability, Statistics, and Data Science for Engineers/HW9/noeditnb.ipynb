{
 "cells": [
  {
   "cell_type": "code",
   "execution_count": null,
   "metadata": {},
   "outputs": [],
   "source": [
    "# Load needed modules\n",
    "\n",
    "import numpy as np\n",
    "import matplotlib.pyplot as plt \n",
    "\n"
   ]
  },
  {
   "cell_type": "code",
   "execution_count": null,
   "metadata": {},
   "outputs": [],
   "source": [
    "#  LLSE(X,Y) produces the LLSE estimate Xhat of X from Y as well as the mean-squared error MSE\n",
    "#  and the coefficient of determination R2.\n",
    "\n",
    "#9.6 (a) Complete the function LLSE to compute the LLSE estimate of X given data samples in the matrix Y\n",
    "\n",
    "\n",
    "def LLSE(X,Y):\n",
    "    XYstack = np.column_stack((X, Y)) #concatenate X and Y into a matrix with X as its first column\n",
    "\n",
    "    # Fill in the following:  \n",
    "    #   Compute the average of XYstack, \n",
    "    #   set the first element of XYstack as mean of X, muX\n",
    "    #   set the remaining elements of XY stack as the mean vector of Y, muY\n",
    "    #   Compute the covariance matrix of XYstack.  This covariance will have the shape \n",
    "    #   [SigmaX   SigmaXY] in the first row, where SigmaX is the scalar variance of X and SigmaXY\n",
    "    #   is the cross covariance between X and Y. \n",
    "    #   The rest of rows of the covariance matrix have SigmaYX as the first column, and SigmaY as the rest of the columhs. \n",
    "    #   Store the appropriate elements from the computed covariance into SigmaX, SigmaXY, and SigmaY\n",
    "      \n",
    "    meanstack =     #mean of X and Y\n",
    "    covstack =      #covariance of X and Y\n",
    "    muX =           #extract mean of X from meanstack\n",
    "    muY =           #extract mean of Y from meanstack \n",
    "    SigmaXY =       #extract cross-covariance matrix of X and Y\n",
    "    SigmaY =        #extract covariance matrix of Y\n",
    "    SigmaX =        #extract variance of X\n",
    "\n",
    "    # Using the above vectors and matrices, for each row j of Y, use the LLSE estimation formula for predicting \n",
    "    # Xhat[j] using the LLSE estimation formulas with the vectors and matrices indicated above.\n",
    "    ndata = Y.shape[0]\n",
    "    Xhat = np.zeros((ndata,))\n",
    "    sigmaYinv = np.linalg.inv(sigmaY) # always do the inverses outside the loops\n",
    "    for j in range(ndata):\n",
    "        yvector = Y[j,:]\n",
    "        Xhat[j] =      ### use the LLSE estimate to compute this\n",
    "    \n",
    "    # Compute the theoretical LLSE mean squared error using the LLSE error formula:\n",
    "    SigmaE =       ## Fill this \n",
    "\n",
    "    return Xhat, SigmaE\n"
   ]
  },
  {
   "cell_type": "code",
   "execution_count": null,
   "metadata": {},
   "outputs": [],
   "source": [
    "# 9.6 (b)  Compute the empirical performance of the LLSE Estimator from the data and estimates\n",
    "\n",
    "def ComputePerformance(X,Xhat):\n",
    "    ndata = X.shape[0]\n",
    "    muX = np.mean(X)\n",
    "     #Your code for calculating the mean-squared error between X and Xhat\n",
    "    MSE =     ###\n",
    "    #Your code for calculating the coefficient of determination between X and Xhat.\n",
    "    R2 =     ###\n",
    "    return MSE, R2"
   ]
  },
  {
   "cell_type": "code",
   "execution_count": 1,
   "metadata": {},
   "outputs": [
    {
     "name": "stdout",
     "output_type": "stream",
     "text": [
      "(1030,)\n",
      "(1030, 8)\n"
     ]
    }
   ],
   "source": [
    "#Homework 9 Python Solution: Read the data\n",
    "\n",
    "#Read data\n",
    "data = np.genfromtxt(\"concretedata.csv\", delimiter = \",\")\n",
    "X = data[1:,8]\n",
    "nx = X.shape[0]\n",
    "Y = data[1:,0:8]\n",
    "ny,dy = Y.shape\n",
    "\n"
   ]
  },
  {
   "cell_type": "code",
   "execution_count": null,
   "metadata": {},
   "outputs": [],
   "source": [
    "# 9.6 (c) Find the best vector fit\n",
    "\n",
    "vectorXhat, vectorSigmaE = LLSE(X,Y)\n",
    "vectorMSE, vectorR2 = ComputePerformance(X,vectorXhat)\n",
    "\n",
    "print(f\"Vector LLSE prediction attains MSE = {vectorMSE}, theoretical MSE = {vectorSigmaE}, and R2 = {vectorR2}.\")\n",
    "\n",
    "## Scatter plot the required data and label the plot and the two axes  below...\n"
   ]
  },
  {
   "cell_type": "code",
   "execution_count": null,
   "metadata": {},
   "outputs": [],
   "source": [
    "# 9.6 (d) Find the best fit with only the first 3 columns of Y\n",
    "\n"
   ]
  },
  {
   "cell_type": "code",
   "execution_count": null,
   "metadata": {},
   "outputs": [],
   "source": [
    "# 9.6 (e) Find the best fit nonlinear fit with quadratic augmentation of data \n",
    "\n",
    "\n"
   ]
  }
 ],
 "metadata": {
  "kernelspec": {
   "display_name": "Python 3",
   "language": "python",
   "name": "python3"
  },
  "language_info": {
   "codemirror_mode": {
    "name": "ipython",
    "version": 3
   },
   "file_extension": ".py",
   "mimetype": "text/x-python",
   "name": "python",
   "nbconvert_exporter": "python",
   "pygments_lexer": "ipython3",
   "version": "3.9.13"
  }
 },
 "nbformat": 4,
 "nbformat_minor": 4
}
